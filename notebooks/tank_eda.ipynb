{
 "cells": [
  {
   "cell_type": "code",
   "execution_count": 1,
   "metadata": {},
   "outputs": [],
   "source": [
    "import pandas as pd\n",
    "import numpy as np"
   ]
  },
  {
   "cell_type": "code",
   "execution_count": 2,
   "metadata": {},
   "outputs": [
    {
     "name": "stdout",
     "output_type": "stream",
     "text": [
      "<class 'pandas.core.frame.DataFrame'>\n",
      "DatetimeIndex: 28658 entries, 2022-05-26 09:30:00 to 2022-05-26 15:30:41\n",
      "Data columns (total 21 columns):\n",
      " #   Column                                                                                                                        Non-Null Count  Dtype  \n",
      "---  ------                                                                                                                        --------------  -----  \n",
      " 0   Operation_mode {_start=\"2022-05-26 01:30:00 +0000 UTC\", _stop=\"2022-05-26 09:30:00 +0000 UTC\", host=\"a1264a8bcdb3\"}           28655 non-null  float64\n",
      " 1   Pmp_Start {_start=\"2022-05-26 01:30:00 +0000 UTC\", _stop=\"2022-05-26 09:30:00 +0000 UTC\", host=\"a1264a8bcdb3\"}                28656 non-null  object \n",
      " 2   Quality {_start=\"2022-05-26 01:30:00 +0000 UTC\", _stop=\"2022-05-26 09:30:00 +0000 UTC\", host=\"a1264a8bcdb3\"}                  28658 non-null  object \n",
      " 3   Scada_mtr_start {_start=\"2022-05-26 01:30:00 +0000 UTC\", _stop=\"2022-05-26 09:30:00 +0000 UTC\", host=\"a1264a8bcdb3\"}          28655 non-null  object \n",
      " 4   Scada_valveA_start {_start=\"2022-05-26 01:30:00 +0000 UTC\", _stop=\"2022-05-26 09:30:00 +0000 UTC\", host=\"a1264a8bcdb3\"}       28655 non-null  object \n",
      " 5   Scada_valveB_start {_start=\"2022-05-26 01:30:00 +0000 UTC\", _stop=\"2022-05-26 09:30:00 +0000 UTC\", host=\"a1264a8bcdb3\"}       28655 non-null  object \n",
      " 6   TankA_H {_start=\"2022-05-26 01:30:00 +0000 UTC\", _stop=\"2022-05-26 09:30:00 +0000 UTC\", host=\"a1264a8bcdb3\"}                  28655 non-null  object \n",
      " 7   TankA_Height {_start=\"2022-05-26 01:30:00 +0000 UTC\", _stop=\"2022-05-26 09:30:00 +0000 UTC\", host=\"a1264a8bcdb3\"}             28658 non-null  int64  \n",
      " 8   TankA_L {_start=\"2022-05-26 01:30:00 +0000 UTC\", _stop=\"2022-05-26 09:30:00 +0000 UTC\", host=\"a1264a8bcdb3\"}                  28655 non-null  object \n",
      " 9   TankA_RawLvl {_start=\"2022-05-26 01:30:00 +0000 UTC\", _stop=\"2022-05-26 09:30:00 +0000 UTC\", host=\"a1264a8bcdb3\"}             28658 non-null  int64  \n",
      " 10  TankA_Vol {_start=\"2022-05-26 01:30:00 +0000 UTC\", _stop=\"2022-05-26 09:30:00 +0000 UTC\", host=\"a1264a8bcdb3\"}                28658 non-null  float64\n",
      " 11  TankB_H {_start=\"2022-05-26 01:30:00 +0000 UTC\", _stop=\"2022-05-26 09:30:00 +0000 UTC\", host=\"a1264a8bcdb3\"}                  28656 non-null  object \n",
      " 12  TankB_Height {_start=\"2022-05-26 01:30:00 +0000 UTC\", _stop=\"2022-05-26 09:30:00 +0000 UTC\", host=\"a1264a8bcdb3\"}             28658 non-null  int64  \n",
      " 13  TankB_L {_start=\"2022-05-26 01:30:00 +0000 UTC\", _stop=\"2022-05-26 09:30:00 +0000 UTC\", host=\"a1264a8bcdb3\"}                  28655 non-null  object \n",
      " 14  TankB_RawLvl {_start=\"2022-05-26 01:30:00 +0000 UTC\", _stop=\"2022-05-26 09:30:00 +0000 UTC\", host=\"a1264a8bcdb3\"}             28658 non-null  int64  \n",
      " 15  TankB_Vol {_start=\"2022-05-26 01:30:00 +0000 UTC\", _stop=\"2022-05-26 09:30:00 +0000 UTC\", host=\"a1264a8bcdb3\"}                28658 non-null  float64\n",
      " 16  ValveA_HMI {_start=\"2022-05-26 01:30:00 +0000 UTC\", _stop=\"2022-05-26 09:30:00 +0000 UTC\", host=\"a1264a8bcdb3\"}               28655 non-null  object \n",
      " 17  ValveA_Open {_start=\"2022-05-26 01:30:00 +0000 UTC\", _stop=\"2022-05-26 09:30:00 +0000 UTC\", host=\"a1264a8bcdb3\"}              28656 non-null  object \n",
      " 18  ValveB_HMI {_start=\"2022-05-26 01:30:00 +0000 UTC\", _stop=\"2022-05-26 09:30:00 +0000 UTC\", host=\"a1264a8bcdb3\"}               28655 non-null  object \n",
      " 19  ValveB_Open {_start=\"2022-05-26 01:30:00 +0000 UTC\", _stop=\"2022-05-26 09:30:00 +0000 UTC\", host=\"a1264a8bcdb3\"}              28656 non-null  object \n",
      " 20  Writable_Operation_mode {_start=\"2022-05-26 01:30:00 +0000 UTC\", _stop=\"2022-05-26 09:30:00 +0000 UTC\", host=\"a1264a8bcdb3\"}  28655 non-null  float64\n",
      "dtypes: float64(4), int64(4), object(13)\n",
      "memory usage: 4.8+ MB\n"
     ]
    }
   ],
   "source": [
    "df_plc26 = pd.read_csv('data/logs_20220526_0930-1730_plc.csv', header=0, index_col=0, parse_dates=True)\n",
    "df_plc26.info()"
   ]
  },
  {
   "cell_type": "code",
   "execution_count": 3,
   "metadata": {},
   "outputs": [
    {
     "name": "stdout",
     "output_type": "stream",
     "text": [
      "<class 'pandas.core.frame.DataFrame'>\n",
      "DatetimeIndex: 28626 entries, 2022-05-25 09:30:00 to 2022-05-25 17:29:59\n",
      "Data columns (total 21 columns):\n",
      " #   Column                                                                                                                        Non-Null Count  Dtype  \n",
      "---  ------                                                                                                                        --------------  -----  \n",
      " 0   Operation_mode {_start=\"2022-05-25 01:30:00 +0000 UTC\", _stop=\"2022-05-25 09:30:00 +0000 UTC\", host=\"a1264a8bcdb3\"}           28626 non-null  int64  \n",
      " 1   Pmp_Start {_start=\"2022-05-25 01:30:00 +0000 UTC\", _stop=\"2022-05-25 09:30:00 +0000 UTC\", host=\"a1264a8bcdb3\"}                28626 non-null  bool   \n",
      " 2   Quality {_start=\"2022-05-25 01:30:00 +0000 UTC\", _stop=\"2022-05-25 09:30:00 +0000 UTC\", host=\"a1264a8bcdb3\"}                  28626 non-null  object \n",
      " 3   Scada_mtr_start {_start=\"2022-05-25 01:30:00 +0000 UTC\", _stop=\"2022-05-25 09:30:00 +0000 UTC\", host=\"a1264a8bcdb3\"}          28626 non-null  bool   \n",
      " 4   Scada_valveA_start {_start=\"2022-05-25 01:30:00 +0000 UTC\", _stop=\"2022-05-25 09:30:00 +0000 UTC\", host=\"a1264a8bcdb3\"}       28626 non-null  bool   \n",
      " 5   Scada_valveB_start {_start=\"2022-05-25 01:30:00 +0000 UTC\", _stop=\"2022-05-25 09:30:00 +0000 UTC\", host=\"a1264a8bcdb3\"}       28626 non-null  bool   \n",
      " 6   TankA_H {_start=\"2022-05-25 01:30:00 +0000 UTC\", _stop=\"2022-05-25 09:30:00 +0000 UTC\", host=\"a1264a8bcdb3\"}                  28626 non-null  bool   \n",
      " 7   TankA_Height {_start=\"2022-05-25 01:30:00 +0000 UTC\", _stop=\"2022-05-25 09:30:00 +0000 UTC\", host=\"a1264a8bcdb3\"}             28626 non-null  int64  \n",
      " 8   TankA_L {_start=\"2022-05-25 01:30:00 +0000 UTC\", _stop=\"2022-05-25 09:30:00 +0000 UTC\", host=\"a1264a8bcdb3\"}                  28626 non-null  bool   \n",
      " 9   TankA_RawLvl {_start=\"2022-05-25 01:30:00 +0000 UTC\", _stop=\"2022-05-25 09:30:00 +0000 UTC\", host=\"a1264a8bcdb3\"}             28626 non-null  int64  \n",
      " 10  TankA_Vol {_start=\"2022-05-25 01:30:00 +0000 UTC\", _stop=\"2022-05-25 09:30:00 +0000 UTC\", host=\"a1264a8bcdb3\"}                28626 non-null  float64\n",
      " 11  TankB_H {_start=\"2022-05-25 01:30:00 +0000 UTC\", _stop=\"2022-05-25 09:30:00 +0000 UTC\", host=\"a1264a8bcdb3\"}                  28626 non-null  bool   \n",
      " 12  TankB_Height {_start=\"2022-05-25 01:30:00 +0000 UTC\", _stop=\"2022-05-25 09:30:00 +0000 UTC\", host=\"a1264a8bcdb3\"}             28626 non-null  int64  \n",
      " 13  TankB_L {_start=\"2022-05-25 01:30:00 +0000 UTC\", _stop=\"2022-05-25 09:30:00 +0000 UTC\", host=\"a1264a8bcdb3\"}                  28626 non-null  bool   \n",
      " 14  TankB_RawLvl {_start=\"2022-05-25 01:30:00 +0000 UTC\", _stop=\"2022-05-25 09:30:00 +0000 UTC\", host=\"a1264a8bcdb3\"}             28626 non-null  int64  \n",
      " 15  TankB_Vol {_start=\"2022-05-25 01:30:00 +0000 UTC\", _stop=\"2022-05-25 09:30:00 +0000 UTC\", host=\"a1264a8bcdb3\"}                28626 non-null  float64\n",
      " 16  ValveA_HMI {_start=\"2022-05-25 01:30:00 +0000 UTC\", _stop=\"2022-05-25 09:30:00 +0000 UTC\", host=\"a1264a8bcdb3\"}               28626 non-null  bool   \n",
      " 17  ValveA_Open {_start=\"2022-05-25 01:30:00 +0000 UTC\", _stop=\"2022-05-25 09:30:00 +0000 UTC\", host=\"a1264a8bcdb3\"}              28626 non-null  bool   \n",
      " 18  ValveB_HMI {_start=\"2022-05-25 01:30:00 +0000 UTC\", _stop=\"2022-05-25 09:30:00 +0000 UTC\", host=\"a1264a8bcdb3\"}               28626 non-null  bool   \n",
      " 19  ValveB_Open {_start=\"2022-05-25 01:30:00 +0000 UTC\", _stop=\"2022-05-25 09:30:00 +0000 UTC\", host=\"a1264a8bcdb3\"}              28626 non-null  bool   \n",
      " 20  Writable_Operation_mode {_start=\"2022-05-25 01:30:00 +0000 UTC\", _stop=\"2022-05-25 09:30:00 +0000 UTC\", host=\"a1264a8bcdb3\"}  28626 non-null  int64  \n",
      "dtypes: bool(12), float64(2), int64(6), object(1)\n",
      "memory usage: 2.5+ MB\n"
     ]
    }
   ],
   "source": [
    "df_plc25 = pd.read_csv('data/logs_20220525_0930-1730_plc.csv', header=0, index_col=0, parse_dates=True)\n",
    "df_plc25.info()"
   ]
  },
  {
   "cell_type": "markdown",
   "metadata": {},
   "source": [
    "# EDA of Datasets under normal operating conditions\n",
    "EDA will be performed for the 2 days of normal operating conditions of the water tank system. The sections in this notebook are organised as follows:\n",
    "1. Normalizing of title "
   ]
  },
  {
   "cell_type": "markdown",
   "metadata": {},
   "source": [
    "## Detecting the rows with empty values\n",
    "In this section, we will find the rows that contain null values in both the `plc` datasets"
   ]
  },
  {
   "cell_type": "code",
   "execution_count": 4,
   "metadata": {},
   "outputs": [
    {
     "name": "stdout",
     "output_type": "stream",
     "text": [
      "[Timestamp('2022-05-26 13:29:49'), Timestamp('2022-05-26 11:29:08'), Timestamp('2022-05-26 15:30:41')]\n"
     ]
    }
   ],
   "source": [
    "df_plc26_nan_idx = [index for index, row in df_plc26.iterrows() if row.isnull().any()]\n",
    "print(df_plc26_nan_idx)"
   ]
  },
  {
   "cell_type": "code",
   "execution_count": 5,
   "metadata": {},
   "outputs": [
    {
     "name": "stdout",
     "output_type": "stream",
     "text": [
      "[]\n"
     ]
    }
   ],
   "source": [
    "df_plc25_nan_idx = [index for index, row in df_plc25.iterrows() if row.isnull().any()]\n",
    "print(df_plc25_nan_idx)"
   ]
  },
  {
   "cell_type": "markdown",
   "metadata": {},
   "source": [
    "Both PLC datasets containing discontinuities in timestamp due to the trial kepware license. The trial version has to be renewed every 2-hourly. The missing timestamps are as follows:\n",
    "* for `df_plc26`:\n",
    "1. 11:29:08 - 11:29:46\n",
    "2. 13:29:49 - 13:30:38\n",
    "3. 15:30:41 - 15:31:31\n",
    "* for `df_plc25`:\n",
    "1. 11:18:36 - 11:19:25\n",
    "2. 13:19:38 - 13:20:16\n",
    "3. 15:20:27 - 15:21:07\n",
    "\n",
    "Note that the missing timestamps do not correspond to `NaN` values within the dataset. The missing rows are just truncated form the dataset.\n",
    "\n",
    "## Normalizing column names\n",
    "The column names are normalized for ease of reference subsequently."
   ]
  },
  {
   "cell_type": "code",
   "execution_count": 6,
   "metadata": {},
   "outputs": [],
   "source": [
    "# df_plc26.columns = df_plc26.columns.str.lower()\n",
    "plc_columns = ['ops_mode_scada_output',\n",
    "'pump_start_output', \n",
    "'quality',\n",
    "'pump_start_scada_input',\n",
    "'valve-a_start_scada_input',\n",
    "'valve-b_start_scada_input',\n",
    "'tank-a_upper_sensor',\n",
    "'tank-a_height',\n",
    "'tank-a_lower_sensor',\n",
    "'tank-a_raw_lvl',\n",
    "'tank-a_vol',\n",
    "'tank-b_upper_sensor',\n",
    "'tank-b_height',\n",
    "'tank-b_lower_sensor',\n",
    "'tank-b_raw_lvl',\n",
    "'tank-b_vol',\n",
    "'valve-a_hmi_input',\n",
    "'valve-a_open',\n",
    "'valve-b_hmi_input',\n",
    "'valve-b_open',\n",
    "'writable_ops_mode_scada_input']\n",
    "df_plc26.columns = plc_columns\n",
    "df_plc25.columns = plc_columns"
   ]
  },
  {
   "cell_type": "markdown",
   "metadata": {},
   "source": [
    "## Check the dtypes of individual columns\n",
    "Here the dtypes for the columns are checked. Columns holding `True` or `False` will be mapped to `1` and `0` respectively."
   ]
  },
  {
   "cell_type": "code",
   "execution_count": 7,
   "metadata": {},
   "outputs": [
    {
     "name": "stdout",
     "output_type": "stream",
     "text": [
      "<class 'pandas.core.frame.DataFrame'>\n",
      "DatetimeIndex: 28626 entries, 2022-05-25 09:30:00 to 2022-05-25 17:29:59\n",
      "Data columns (total 21 columns):\n",
      " #   Column                         Non-Null Count  Dtype  \n",
      "---  ------                         --------------  -----  \n",
      " 0   ops_mode_scada_output          28626 non-null  int64  \n",
      " 1   pump_start_output              28626 non-null  bool   \n",
      " 2   quality                        28626 non-null  object \n",
      " 3   pump_start_scada_input         28626 non-null  bool   \n",
      " 4   valve-a_start_scada_input      28626 non-null  bool   \n",
      " 5   valve-b_start_scada_input      28626 non-null  bool   \n",
      " 6   tank-a_upper_sensor            28626 non-null  bool   \n",
      " 7   tank-a_height                  28626 non-null  int64  \n",
      " 8   tank-a_lower_sensor            28626 non-null  bool   \n",
      " 9   tank-a_raw_lvl                 28626 non-null  int64  \n",
      " 10  tank-a_vol                     28626 non-null  float64\n",
      " 11  tank-b_upper_sensor            28626 non-null  bool   \n",
      " 12  tank-b_height                  28626 non-null  int64  \n",
      " 13  tank-b_lower_sensor            28626 non-null  bool   \n",
      " 14  tank-b_raw_lvl                 28626 non-null  int64  \n",
      " 15  tank-b_vol                     28626 non-null  float64\n",
      " 16  valve-a_hmi_input              28626 non-null  bool   \n",
      " 17  valve-a_open                   28626 non-null  bool   \n",
      " 18  valve-b_hmi_input              28626 non-null  bool   \n",
      " 19  valve-b_open                   28626 non-null  bool   \n",
      " 20  writable_ops_mode_scada_input  28626 non-null  int64  \n",
      "dtypes: bool(12), float64(2), int64(6), object(1)\n",
      "memory usage: 2.5+ MB\n"
     ]
    }
   ],
   "source": [
    "df_plc25.info()"
   ]
  },
  {
   "cell_type": "code",
   "execution_count": 8,
   "metadata": {},
   "outputs": [],
   "source": [
    "# plc_boolean_columns = list(df_plc25.select_dtypes(include=['bool']).columns)\n",
    "df_plc25.replace([True, False], value=[1, 0], inplace=True)\n",
    "df_plc26.replace([True, False], value=[1, 0], inplace=True)"
   ]
  },
  {
   "cell_type": "code",
   "execution_count": 9,
   "metadata": {},
   "outputs": [
    {
     "name": "stdout",
     "output_type": "stream",
     "text": [
      "<class 'pandas.core.frame.DataFrame'>\n",
      "DatetimeIndex: 28626 entries, 2022-05-25 09:30:00 to 2022-05-25 17:29:59\n",
      "Data columns (total 21 columns):\n",
      " #   Column                         Non-Null Count  Dtype  \n",
      "---  ------                         --------------  -----  \n",
      " 0   ops_mode_scada_output          28626 non-null  int64  \n",
      " 1   pump_start_output              28626 non-null  int64  \n",
      " 2   quality                        28626 non-null  object \n",
      " 3   pump_start_scada_input         28626 non-null  int64  \n",
      " 4   valve-a_start_scada_input      28626 non-null  int64  \n",
      " 5   valve-b_start_scada_input      28626 non-null  int64  \n",
      " 6   tank-a_upper_sensor            28626 non-null  int64  \n",
      " 7   tank-a_height                  28626 non-null  int64  \n",
      " 8   tank-a_lower_sensor            28626 non-null  int64  \n",
      " 9   tank-a_raw_lvl                 28626 non-null  int64  \n",
      " 10  tank-a_vol                     28626 non-null  float64\n",
      " 11  tank-b_upper_sensor            28626 non-null  int64  \n",
      " 12  tank-b_height                  28626 non-null  int64  \n",
      " 13  tank-b_lower_sensor            28626 non-null  int64  \n",
      " 14  tank-b_raw_lvl                 28626 non-null  int64  \n",
      " 15  tank-b_vol                     28626 non-null  float64\n",
      " 16  valve-a_hmi_input              28626 non-null  int64  \n",
      " 17  valve-a_open                   28626 non-null  int64  \n",
      " 18  valve-b_hmi_input              28626 non-null  int64  \n",
      " 19  valve-b_open                   28626 non-null  int64  \n",
      " 20  writable_ops_mode_scada_input  28626 non-null  int64  \n",
      "dtypes: float64(2), int64(18), object(1)\n",
      "memory usage: 4.8+ MB\n"
     ]
    }
   ],
   "source": [
    "df_plc25.info()"
   ]
  },
  {
   "cell_type": "markdown",
   "metadata": {},
   "source": [
    "## Determine columns to drop\n",
    "Check the number of unique values in each column using `nunique()`. Those columns that contain only a single value throughout can be considered for dropping **IF** they do not provide additional values during the attacks."
   ]
  },
  {
   "cell_type": "code",
   "execution_count": 10,
   "metadata": {},
   "outputs": [
    {
     "data": {
      "text/plain": [
       "ops_mode_scada_output               2\n",
       "pump_start_output                   2\n",
       "quality                             1\n",
       "pump_start_scada_input              1\n",
       "valve-a_start_scada_input           1\n",
       "valve-b_start_scada_input           1\n",
       "tank-a_upper_sensor                 2\n",
       "tank-a_height                      80\n",
       "tank-a_lower_sensor                 1\n",
       "tank-a_raw_lvl                   8549\n",
       "tank-a_vol                         80\n",
       "tank-b_upper_sensor                 2\n",
       "tank-b_height                      81\n",
       "tank-b_lower_sensor                 1\n",
       "tank-b_raw_lvl                   8476\n",
       "tank-b_vol                         81\n",
       "valve-a_hmi_input                   1\n",
       "valve-a_open                        2\n",
       "valve-b_hmi_input                   1\n",
       "valve-b_open                        2\n",
       "writable_ops_mode_scada_input       2\n",
       "dtype: int64"
      ]
     },
     "execution_count": 10,
     "metadata": {},
     "output_type": "execute_result"
    }
   ],
   "source": [
    "df_plc26.nunique()"
   ]
  },
  {
   "cell_type": "code",
   "execution_count": 11,
   "metadata": {},
   "outputs": [],
   "source": [
    "df_plc26.index.rename('time', inplace=True)\n",
    "df_plc25.index.rename('time', inplace=True)"
   ]
  },
  {
   "cell_type": "code",
   "execution_count": 12,
   "metadata": {},
   "outputs": [
    {
     "data": {
      "text/html": [
       "<div>\n",
       "<style scoped>\n",
       "    .dataframe tbody tr th:only-of-type {\n",
       "        vertical-align: middle;\n",
       "    }\n",
       "\n",
       "    .dataframe tbody tr th {\n",
       "        vertical-align: top;\n",
       "    }\n",
       "\n",
       "    .dataframe thead th {\n",
       "        text-align: right;\n",
       "    }\n",
       "</style>\n",
       "<table border=\"1\" class=\"dataframe\">\n",
       "  <thead>\n",
       "    <tr style=\"text-align: right;\">\n",
       "      <th></th>\n",
       "      <th>ops_mode_scada_output</th>\n",
       "      <th>pump_start_output</th>\n",
       "      <th>pump_start_scada_input</th>\n",
       "      <th>valve-a_start_scada_input</th>\n",
       "      <th>valve-b_start_scada_input</th>\n",
       "      <th>tank-a_upper_sensor</th>\n",
       "      <th>tank-a_height</th>\n",
       "      <th>tank-a_lower_sensor</th>\n",
       "      <th>tank-b_upper_sensor</th>\n",
       "      <th>tank-b_height</th>\n",
       "      <th>tank-b_lower_sensor</th>\n",
       "      <th>valve-a_hmi_input</th>\n",
       "      <th>valve-a_open</th>\n",
       "      <th>valve-b_hmi_input</th>\n",
       "      <th>valve-b_open</th>\n",
       "      <th>writable_ops_mode_scada_input</th>\n",
       "    </tr>\n",
       "    <tr>\n",
       "      <th>time</th>\n",
       "      <th></th>\n",
       "      <th></th>\n",
       "      <th></th>\n",
       "      <th></th>\n",
       "      <th></th>\n",
       "      <th></th>\n",
       "      <th></th>\n",
       "      <th></th>\n",
       "      <th></th>\n",
       "      <th></th>\n",
       "      <th></th>\n",
       "      <th></th>\n",
       "      <th></th>\n",
       "      <th></th>\n",
       "      <th></th>\n",
       "      <th></th>\n",
       "    </tr>\n",
       "  </thead>\n",
       "  <tbody>\n",
       "    <tr>\n",
       "      <th>2022-05-26 17:29:55</th>\n",
       "      <td>0.0</td>\n",
       "      <td>0.0</td>\n",
       "      <td>0.0</td>\n",
       "      <td>0.0</td>\n",
       "      <td>0.0</td>\n",
       "      <td>0.0</td>\n",
       "      <td>120</td>\n",
       "      <td>1.0</td>\n",
       "      <td>0.0</td>\n",
       "      <td>94</td>\n",
       "      <td>1.0</td>\n",
       "      <td>0.0</td>\n",
       "      <td>0.0</td>\n",
       "      <td>0.0</td>\n",
       "      <td>0.0</td>\n",
       "      <td>0.0</td>\n",
       "    </tr>\n",
       "    <tr>\n",
       "      <th>2022-05-26 17:29:56</th>\n",
       "      <td>0.0</td>\n",
       "      <td>0.0</td>\n",
       "      <td>0.0</td>\n",
       "      <td>0.0</td>\n",
       "      <td>0.0</td>\n",
       "      <td>0.0</td>\n",
       "      <td>120</td>\n",
       "      <td>1.0</td>\n",
       "      <td>0.0</td>\n",
       "      <td>94</td>\n",
       "      <td>1.0</td>\n",
       "      <td>0.0</td>\n",
       "      <td>0.0</td>\n",
       "      <td>0.0</td>\n",
       "      <td>0.0</td>\n",
       "      <td>0.0</td>\n",
       "    </tr>\n",
       "    <tr>\n",
       "      <th>2022-05-26 17:29:57</th>\n",
       "      <td>0.0</td>\n",
       "      <td>0.0</td>\n",
       "      <td>0.0</td>\n",
       "      <td>0.0</td>\n",
       "      <td>0.0</td>\n",
       "      <td>0.0</td>\n",
       "      <td>120</td>\n",
       "      <td>1.0</td>\n",
       "      <td>0.0</td>\n",
       "      <td>94</td>\n",
       "      <td>1.0</td>\n",
       "      <td>0.0</td>\n",
       "      <td>0.0</td>\n",
       "      <td>0.0</td>\n",
       "      <td>0.0</td>\n",
       "      <td>0.0</td>\n",
       "    </tr>\n",
       "    <tr>\n",
       "      <th>2022-05-26 17:29:58</th>\n",
       "      <td>0.0</td>\n",
       "      <td>0.0</td>\n",
       "      <td>0.0</td>\n",
       "      <td>0.0</td>\n",
       "      <td>0.0</td>\n",
       "      <td>0.0</td>\n",
       "      <td>121</td>\n",
       "      <td>1.0</td>\n",
       "      <td>0.0</td>\n",
       "      <td>94</td>\n",
       "      <td>1.0</td>\n",
       "      <td>0.0</td>\n",
       "      <td>0.0</td>\n",
       "      <td>0.0</td>\n",
       "      <td>0.0</td>\n",
       "      <td>0.0</td>\n",
       "    </tr>\n",
       "    <tr>\n",
       "      <th>2022-05-26 17:29:59</th>\n",
       "      <td>0.0</td>\n",
       "      <td>0.0</td>\n",
       "      <td>0.0</td>\n",
       "      <td>0.0</td>\n",
       "      <td>0.0</td>\n",
       "      <td>0.0</td>\n",
       "      <td>120</td>\n",
       "      <td>1.0</td>\n",
       "      <td>0.0</td>\n",
       "      <td>94</td>\n",
       "      <td>1.0</td>\n",
       "      <td>0.0</td>\n",
       "      <td>0.0</td>\n",
       "      <td>0.0</td>\n",
       "      <td>0.0</td>\n",
       "      <td>0.0</td>\n",
       "    </tr>\n",
       "  </tbody>\n",
       "</table>\n",
       "</div>"
      ],
      "text/plain": [
       "                     ops_mode_scada_output  pump_start_output  \\\n",
       "time                                                            \n",
       "2022-05-26 17:29:55                    0.0                0.0   \n",
       "2022-05-26 17:29:56                    0.0                0.0   \n",
       "2022-05-26 17:29:57                    0.0                0.0   \n",
       "2022-05-26 17:29:58                    0.0                0.0   \n",
       "2022-05-26 17:29:59                    0.0                0.0   \n",
       "\n",
       "                     pump_start_scada_input  valve-a_start_scada_input  \\\n",
       "time                                                                     \n",
       "2022-05-26 17:29:55                     0.0                        0.0   \n",
       "2022-05-26 17:29:56                     0.0                        0.0   \n",
       "2022-05-26 17:29:57                     0.0                        0.0   \n",
       "2022-05-26 17:29:58                     0.0                        0.0   \n",
       "2022-05-26 17:29:59                     0.0                        0.0   \n",
       "\n",
       "                     valve-b_start_scada_input  tank-a_upper_sensor  \\\n",
       "time                                                                  \n",
       "2022-05-26 17:29:55                        0.0                  0.0   \n",
       "2022-05-26 17:29:56                        0.0                  0.0   \n",
       "2022-05-26 17:29:57                        0.0                  0.0   \n",
       "2022-05-26 17:29:58                        0.0                  0.0   \n",
       "2022-05-26 17:29:59                        0.0                  0.0   \n",
       "\n",
       "                     tank-a_height  tank-a_lower_sensor  tank-b_upper_sensor  \\\n",
       "time                                                                           \n",
       "2022-05-26 17:29:55            120                  1.0                  0.0   \n",
       "2022-05-26 17:29:56            120                  1.0                  0.0   \n",
       "2022-05-26 17:29:57            120                  1.0                  0.0   \n",
       "2022-05-26 17:29:58            121                  1.0                  0.0   \n",
       "2022-05-26 17:29:59            120                  1.0                  0.0   \n",
       "\n",
       "                     tank-b_height  tank-b_lower_sensor  valve-a_hmi_input  \\\n",
       "time                                                                         \n",
       "2022-05-26 17:29:55             94                  1.0                0.0   \n",
       "2022-05-26 17:29:56             94                  1.0                0.0   \n",
       "2022-05-26 17:29:57             94                  1.0                0.0   \n",
       "2022-05-26 17:29:58             94                  1.0                0.0   \n",
       "2022-05-26 17:29:59             94                  1.0                0.0   \n",
       "\n",
       "                     valve-a_open  valve-b_hmi_input  valve-b_open  \\\n",
       "time                                                                 \n",
       "2022-05-26 17:29:55           0.0                0.0           0.0   \n",
       "2022-05-26 17:29:56           0.0                0.0           0.0   \n",
       "2022-05-26 17:29:57           0.0                0.0           0.0   \n",
       "2022-05-26 17:29:58           0.0                0.0           0.0   \n",
       "2022-05-26 17:29:59           0.0                0.0           0.0   \n",
       "\n",
       "                     writable_ops_mode_scada_input  \n",
       "time                                                \n",
       "2022-05-26 17:29:55                            0.0  \n",
       "2022-05-26 17:29:56                            0.0  \n",
       "2022-05-26 17:29:57                            0.0  \n",
       "2022-05-26 17:29:58                            0.0  \n",
       "2022-05-26 17:29:59                            0.0  "
      ]
     },
     "execution_count": 12,
     "metadata": {},
     "output_type": "execute_result"
    }
   ],
   "source": [
    "df_plc26.drop(df_plc26.index[-3:], inplace=True)\n",
    "df_plc26.drop(labels=['quality', 'tank-a_raw_lvl', 'tank-b_raw_lvl', 'tank-a_vol', 'tank-b_vol'], axis=1, inplace=True)\n",
    "df_plc26.tail()"
   ]
  },
  {
   "cell_type": "code",
   "execution_count": 13,
   "metadata": {},
   "outputs": [
    {
     "data": {
      "text/html": [
       "<div>\n",
       "<style scoped>\n",
       "    .dataframe tbody tr th:only-of-type {\n",
       "        vertical-align: middle;\n",
       "    }\n",
       "\n",
       "    .dataframe tbody tr th {\n",
       "        vertical-align: top;\n",
       "    }\n",
       "\n",
       "    .dataframe thead th {\n",
       "        text-align: right;\n",
       "    }\n",
       "</style>\n",
       "<table border=\"1\" class=\"dataframe\">\n",
       "  <thead>\n",
       "    <tr style=\"text-align: right;\">\n",
       "      <th></th>\n",
       "      <th>ops_mode_scada_output</th>\n",
       "      <th>pump_start_output</th>\n",
       "      <th>pump_start_scada_input</th>\n",
       "      <th>valve-a_start_scada_input</th>\n",
       "      <th>valve-b_start_scada_input</th>\n",
       "      <th>tank-a_upper_sensor</th>\n",
       "      <th>tank-a_height</th>\n",
       "      <th>tank-a_lower_sensor</th>\n",
       "      <th>tank-b_upper_sensor</th>\n",
       "      <th>tank-b_height</th>\n",
       "      <th>tank-b_lower_sensor</th>\n",
       "      <th>valve-a_hmi_input</th>\n",
       "      <th>valve-a_open</th>\n",
       "      <th>valve-b_hmi_input</th>\n",
       "      <th>valve-b_open</th>\n",
       "      <th>writable_ops_mode_scada_input</th>\n",
       "    </tr>\n",
       "    <tr>\n",
       "      <th>time</th>\n",
       "      <th></th>\n",
       "      <th></th>\n",
       "      <th></th>\n",
       "      <th></th>\n",
       "      <th></th>\n",
       "      <th></th>\n",
       "      <th></th>\n",
       "      <th></th>\n",
       "      <th></th>\n",
       "      <th></th>\n",
       "      <th></th>\n",
       "      <th></th>\n",
       "      <th></th>\n",
       "      <th></th>\n",
       "      <th></th>\n",
       "      <th></th>\n",
       "    </tr>\n",
       "  </thead>\n",
       "  <tbody>\n",
       "    <tr>\n",
       "      <th>2022-05-25 17:29:55</th>\n",
       "      <td>0</td>\n",
       "      <td>0</td>\n",
       "      <td>0</td>\n",
       "      <td>0</td>\n",
       "      <td>0</td>\n",
       "      <td>0</td>\n",
       "      <td>121</td>\n",
       "      <td>1</td>\n",
       "      <td>0</td>\n",
       "      <td>97</td>\n",
       "      <td>1</td>\n",
       "      <td>0</td>\n",
       "      <td>0</td>\n",
       "      <td>0</td>\n",
       "      <td>0</td>\n",
       "      <td>0</td>\n",
       "    </tr>\n",
       "    <tr>\n",
       "      <th>2022-05-25 17:29:56</th>\n",
       "      <td>0</td>\n",
       "      <td>0</td>\n",
       "      <td>0</td>\n",
       "      <td>0</td>\n",
       "      <td>0</td>\n",
       "      <td>0</td>\n",
       "      <td>121</td>\n",
       "      <td>1</td>\n",
       "      <td>0</td>\n",
       "      <td>97</td>\n",
       "      <td>1</td>\n",
       "      <td>0</td>\n",
       "      <td>0</td>\n",
       "      <td>0</td>\n",
       "      <td>0</td>\n",
       "      <td>0</td>\n",
       "    </tr>\n",
       "    <tr>\n",
       "      <th>2022-05-25 17:29:57</th>\n",
       "      <td>0</td>\n",
       "      <td>0</td>\n",
       "      <td>0</td>\n",
       "      <td>0</td>\n",
       "      <td>0</td>\n",
       "      <td>0</td>\n",
       "      <td>121</td>\n",
       "      <td>1</td>\n",
       "      <td>0</td>\n",
       "      <td>97</td>\n",
       "      <td>1</td>\n",
       "      <td>0</td>\n",
       "      <td>0</td>\n",
       "      <td>0</td>\n",
       "      <td>0</td>\n",
       "      <td>0</td>\n",
       "    </tr>\n",
       "    <tr>\n",
       "      <th>2022-05-25 17:29:58</th>\n",
       "      <td>0</td>\n",
       "      <td>0</td>\n",
       "      <td>0</td>\n",
       "      <td>0</td>\n",
       "      <td>0</td>\n",
       "      <td>0</td>\n",
       "      <td>121</td>\n",
       "      <td>1</td>\n",
       "      <td>0</td>\n",
       "      <td>97</td>\n",
       "      <td>1</td>\n",
       "      <td>0</td>\n",
       "      <td>0</td>\n",
       "      <td>0</td>\n",
       "      <td>0</td>\n",
       "      <td>0</td>\n",
       "    </tr>\n",
       "    <tr>\n",
       "      <th>2022-05-25 17:29:59</th>\n",
       "      <td>0</td>\n",
       "      <td>0</td>\n",
       "      <td>0</td>\n",
       "      <td>0</td>\n",
       "      <td>0</td>\n",
       "      <td>0</td>\n",
       "      <td>121</td>\n",
       "      <td>1</td>\n",
       "      <td>0</td>\n",
       "      <td>97</td>\n",
       "      <td>1</td>\n",
       "      <td>0</td>\n",
       "      <td>0</td>\n",
       "      <td>0</td>\n",
       "      <td>0</td>\n",
       "      <td>0</td>\n",
       "    </tr>\n",
       "  </tbody>\n",
       "</table>\n",
       "</div>"
      ],
      "text/plain": [
       "                     ops_mode_scada_output  pump_start_output  \\\n",
       "time                                                            \n",
       "2022-05-25 17:29:55                      0                  0   \n",
       "2022-05-25 17:29:56                      0                  0   \n",
       "2022-05-25 17:29:57                      0                  0   \n",
       "2022-05-25 17:29:58                      0                  0   \n",
       "2022-05-25 17:29:59                      0                  0   \n",
       "\n",
       "                     pump_start_scada_input  valve-a_start_scada_input  \\\n",
       "time                                                                     \n",
       "2022-05-25 17:29:55                       0                          0   \n",
       "2022-05-25 17:29:56                       0                          0   \n",
       "2022-05-25 17:29:57                       0                          0   \n",
       "2022-05-25 17:29:58                       0                          0   \n",
       "2022-05-25 17:29:59                       0                          0   \n",
       "\n",
       "                     valve-b_start_scada_input  tank-a_upper_sensor  \\\n",
       "time                                                                  \n",
       "2022-05-25 17:29:55                          0                    0   \n",
       "2022-05-25 17:29:56                          0                    0   \n",
       "2022-05-25 17:29:57                          0                    0   \n",
       "2022-05-25 17:29:58                          0                    0   \n",
       "2022-05-25 17:29:59                          0                    0   \n",
       "\n",
       "                     tank-a_height  tank-a_lower_sensor  tank-b_upper_sensor  \\\n",
       "time                                                                           \n",
       "2022-05-25 17:29:55            121                    1                    0   \n",
       "2022-05-25 17:29:56            121                    1                    0   \n",
       "2022-05-25 17:29:57            121                    1                    0   \n",
       "2022-05-25 17:29:58            121                    1                    0   \n",
       "2022-05-25 17:29:59            121                    1                    0   \n",
       "\n",
       "                     tank-b_height  tank-b_lower_sensor  valve-a_hmi_input  \\\n",
       "time                                                                         \n",
       "2022-05-25 17:29:55             97                    1                  0   \n",
       "2022-05-25 17:29:56             97                    1                  0   \n",
       "2022-05-25 17:29:57             97                    1                  0   \n",
       "2022-05-25 17:29:58             97                    1                  0   \n",
       "2022-05-25 17:29:59             97                    1                  0   \n",
       "\n",
       "                     valve-a_open  valve-b_hmi_input  valve-b_open  \\\n",
       "time                                                                 \n",
       "2022-05-25 17:29:55             0                  0             0   \n",
       "2022-05-25 17:29:56             0                  0             0   \n",
       "2022-05-25 17:29:57             0                  0             0   \n",
       "2022-05-25 17:29:58             0                  0             0   \n",
       "2022-05-25 17:29:59             0                  0             0   \n",
       "\n",
       "                     writable_ops_mode_scada_input  \n",
       "time                                                \n",
       "2022-05-25 17:29:55                              0  \n",
       "2022-05-25 17:29:56                              0  \n",
       "2022-05-25 17:29:57                              0  \n",
       "2022-05-25 17:29:58                              0  \n",
       "2022-05-25 17:29:59                              0  "
      ]
     },
     "execution_count": 13,
     "metadata": {},
     "output_type": "execute_result"
    }
   ],
   "source": [
    "df_plc25.drop(labels=['quality', 'tank-a_raw_lvl', 'tank-b_raw_lvl', 'tank-a_vol', 'tank-b_vol'], axis=1, inplace=True)\n",
    "df_plc25.tail()"
   ]
  },
  {
   "cell_type": "markdown",
   "metadata": {},
   "source": [
    "## Calculating the IQRs\n",
    "A `total_height` column is created by summing the heights of the tanks across both days under normal operations. The idea here is that if an attack causes changes in the `total_height` of the water tanks by overflowing or adding additional water, it should be picked up. The max and min values are also printed to get a sense of the order of magnitude.\n",
    "\n",
    "The distributions for `total_height` are plotted to determine the skewness of the feature. A baseline is considered to classify points outside of *1.5 IQR* as anomalies."
   ]
  },
  {
   "cell_type": "code",
   "execution_count": 14,
   "metadata": {},
   "outputs": [
    {
     "name": "stdout",
     "output_type": "stream",
     "text": [
      "Percentile statistics of df_plc25\n",
      "------------------------------------------------------------\n",
      "The max and min values are 224 and 215 respectively\n",
      "25th percentile: 219.0\n",
      "75th percentile: 221.0\n"
     ]
    }
   ],
   "source": [
    "print(\"Percentile statistics of df_plc25\")\n",
    "print(60 * '-')\n",
    "df_plc25['total_height'] = df_plc25['tank-a_height'] + df_plc25['tank-b_height']\n",
    "plc25_iqr = df_plc25['total_height'].quantile(0.75) - df_plc25['total_height'].quantile(0.25)\n",
    "print(f\"The max and min values are {df_plc25['total_height'].max()} and {df_plc25['total_height'].min()} respectively\")\n",
    "print(f\"25th percentile: {df_plc25['total_height'].quantile(0.25)}\")\n",
    "print(f\"75th percentile: {df_plc25['total_height'].quantile(0.75)}\")"
   ]
  },
  {
   "cell_type": "code",
   "execution_count": 15,
   "metadata": {},
   "outputs": [
    {
     "name": "stdout",
     "output_type": "stream",
     "text": [
      "Percentile statistics of df_plc26\n",
      "------------------------------------------------------------\n",
      "The max and min values are 220 and 210 respectively\n",
      "25th percentile: 215.0\n",
      "75th percentile: 217.0\n"
     ]
    }
   ],
   "source": [
    "print(\"Percentile statistics of df_plc26\")\n",
    "print(60 * '-')\n",
    "df_plc26['total_height'] = df_plc26['tank-a_height'] + df_plc26['tank-b_height']\n",
    "plc26_iqr = df_plc26['total_height'].quantile(0.75) - df_plc26['total_height'].quantile(0.25)\n",
    "print(f\"The max and min values are {df_plc26['total_height'].max()} and {df_plc26['total_height'].min()} respectively\")\n",
    "print(f\"25th percentile: {df_plc26['total_height'].quantile(0.25)}\")\n",
    "print(f\"75th percentile: {df_plc26['total_height'].quantile(0.75)}\")"
   ]
  },
  {
   "cell_type": "code",
   "execution_count": 16,
   "metadata": {},
   "outputs": [],
   "source": [
    "import seaborn as sns\n",
    "import matplotlib.pyplot as plt\n",
    "%matplotlib inline"
   ]
  },
  {
   "cell_type": "code",
   "execution_count": 17,
   "metadata": {},
   "outputs": [
    {
     "name": "stderr",
     "output_type": "stream",
     "text": [
      "/home/ahwz84/miniconda3/envs/water/lib/python3.9/site-packages/seaborn/_decorators.py:36: FutureWarning: Pass the following variable as a keyword arg: x. From version 0.12, the only valid positional argument will be `data`, and passing other arguments without an explicit keyword will result in an error or misinterpretation.\n",
      "  warnings.warn(\n",
      "/home/ahwz84/miniconda3/envs/water/lib/python3.9/site-packages/seaborn/_decorators.py:36: FutureWarning: Pass the following variable as a keyword arg: x. From version 0.12, the only valid positional argument will be `data`, and passing other arguments without an explicit keyword will result in an error or misinterpretation.\n",
      "  warnings.warn(\n"
     ]
    },
    {
     "data": {
      "image/png": "[encoded data removed]",
      "text/plain": [
       "<Figure size 1440x1152 with 2 Axes>"
      ]
     },
     "metadata": {
      "needs_background": "light"
     },
     "output_type": "display_data"
    }
   ],
   "source": [
    "fig, ax = plt.subplots(1, 2, figsize=(20, 16))\n",
    "sns.boxplot(df_plc26['total_height'], ax=ax[1])\n",
    "sns.boxplot(df_plc25['total_height'], ax=ax[0])\n",
    "plt.show()"
   ]
  },
  {
   "cell_type": "code",
   "execution_count": 18,
   "metadata": {},
   "outputs": [],
   "source": [
    "# save the cleaned data as csv\n",
    "df_plc25.to_csv(\"data/cleaned_plc25.csv\", index=True, index_label='time')\n",
    "df_plc26.to_csv(\"data/cleaned_plc26.csv\", index=True, index_label='time')"
   ]
  },
  {
   "cell_type": "markdown",
   "metadata": {},
   "source": [
    "## Baseline statistical detection model\n",
    "The baseline model defines normal operating values of `total_height` as between 1.5 IQR above $75^{th}$ percentile and below $25^{th}$ percentile. Any points lying outside of this range for at least 5 seconds will be classified anomalous.\n",
    "\n",
    "To achieve this, the following is to be done:\n",
    "1. Join the dataframes using `pd.join`\n",
    "2. Convert `time` index to `datetime` using `pd.to_datetime`\n",
    "3. Calculate the $25^{th}$ and $75^{th}$ percentiles using the combined datasets.\n",
    "4. Create new column `is_anomaly`\n",
    "5. If `total_height` is anomalous, `1` in `is_anomaly` in corresponding row else `0`.\n",
    "6. Do rolling sum of `is_anomaly` and flag any values $\\geq$ 5 as anomalous."
   ]
  },
  {
   "cell_type": "code",
   "execution_count": 19,
   "metadata": {},
   "outputs": [],
   "source": [
    "df_normal = pd.concat([df_plc25, df_plc26])\n",
    "df_normal.index = pd.to_datetime(df_normal.index, \n",
    "                                errors='raise', \n",
    "                                yearfirst=True,\n",
    "                                format='%Y-%m-%d %H:%M:%S')"
   ]
  },
  {
   "cell_type": "code",
   "execution_count": 20,
   "metadata": {},
   "outputs": [],
   "source": [
    "SEC_TO_PERSIST = 5"
   ]
  },
  {
   "cell_type": "markdown",
   "metadata": {},
   "source": [
    "### Anomaly detection for data from $25^{th}$ June"
   ]
  },
  {
   "cell_type": "code",
   "execution_count": 21,
   "metadata": {},
   "outputs": [],
   "source": [
    "q75_25 = df_plc25['total_height'].quantile(0.75)\n",
    "q25_25 = df_plc25['total_height'].quantile(0.25)\n",
    "upper_threshold_25 = q75_25 + (1.5 * plc25_iqr)     # 224\n",
    "lower_threshold_25 = q25_25 - (1.5 * plc25_iqr)     # 216"
   ]
  },
  {
   "cell_type": "code",
   "execution_count": 22,
   "metadata": {},
   "outputs": [],
   "source": [
    "df_plc25['anomalous_seconds'] = df_plc25['total_height']\\\n",
    "                                .between(lower_threshold_25, upper_threshold_25, inclusive=\"both\")\\\n",
    "                                .replace({True: 0, False: 1})\\\n",
    "                                .rolling(SEC_TO_PERSIST)\\\n",
    "                                .sum()\n",
    "# df_plc25['exceeds_threshold'].replace({True: 0, False: 1}, inplace=True)\n",
    "# df_plc25['exceeds_threshold'].value_counts()"
   ]
  },
  {
   "cell_type": "code",
   "execution_count": 23,
   "metadata": {},
   "outputs": [
    {
     "data": {
      "text/plain": [
       "DatetimeIndex([], dtype='datetime64[ns]', name='time', freq=None)"
      ]
     },
     "execution_count": 23,
     "metadata": {},
     "output_type": "execute_result"
    }
   ],
   "source": [
    "df_plc25['is_anomalous'] = 0\n",
    "df_plc25.loc[df_plc25['anomalous_seconds'] >= SEC_TO_PERSIST, 'is_anomalous'] = 1\n",
    "df_plc25.loc[df_plc25['is_anomalous'] == 1].index"
   ]
  },
  {
   "cell_type": "markdown",
   "metadata": {},
   "source": [
    "### Anomaly detection for $26^{th}$ data"
   ]
  },
  {
   "cell_type": "code",
   "execution_count": 24,
   "metadata": {},
   "outputs": [],
   "source": [
    "# calculating the upper and lower thresholds\n",
    "q25_26 = df_plc26['total_height'].quantile(0.25)\n",
    "q75_26 = df_plc26['total_height'].quantile(0.75)\n",
    "upper_threshold_26 = q75_26 + (1.5 * (q75_26 - q25_26))     # 220\n",
    "lower_threshold_26 = q25_26 - (1.5 * (q75_26 - q25_26))     # 212"
   ]
  },
  {
   "cell_type": "code",
   "execution_count": 25,
   "metadata": {},
   "outputs": [],
   "source": [
    "df_plc26['anomalous_seconds'] = df_plc26['total_height']\\\n",
    "                                .between(lower_threshold_26, upper_threshold_26, inclusive=\"both\")\\\n",
    "                                .replace({True: 0, False: 1})\\\n",
    "                                .rolling(SEC_TO_PERSIST)\\\n",
    "                                .sum()"
   ]
  },
  {
   "cell_type": "code",
   "execution_count": 26,
   "metadata": {},
   "outputs": [
    {
     "data": {
      "text/plain": [
       "DatetimeIndex([], dtype='datetime64[ns]', name='time', freq=None)"
      ]
     },
     "execution_count": 26,
     "metadata": {},
     "output_type": "execute_result"
    }
   ],
   "source": [
    "df_plc26['is_anomalous'] = 0\n",
    "df_plc26.loc[df_plc26['anomalous_seconds'] >= SEC_TO_PERSIST, 'is_anomalous'] = 1\n",
    "df_plc26.loc[df_plc26['is_anomalous'] == 1].index"
   ]
  },
  {
   "cell_type": "code",
   "execution_count": 27,
   "metadata": {},
   "outputs": [],
   "source": [
    "# df_plc26.to_csv(\"data/cleaned_plc26_anomalous.csv\", index=True, index_label='time')"
   ]
  },
  {
   "cell_type": "markdown",
   "metadata": {},
   "source": [
    "### Anomaly detection for combined normal data"
   ]
  },
  {
   "cell_type": "code",
   "execution_count": 28,
   "metadata": {},
   "outputs": [],
   "source": [
    "IQR_SCALE = 1.5\n",
    "q75 = df_normal['total_height'].quantile(0.75)      # 220\n",
    "q25 = df_normal['total_height'].quantile(0.25)      # 216\n",
    "upper_threshold = q75 + (IQR_SCALE * (q75 - q25))\n",
    "lower_threshold = q25 - (IQR_SCALE * (q75 - q25))"
   ]
  },
  {
   "cell_type": "code",
   "execution_count": 29,
   "metadata": {},
   "outputs": [
    {
     "data": {
      "text/plain": [
       "DatetimeIndex([], dtype='datetime64[ns]', name='time', freq=None)"
      ]
     },
     "execution_count": 29,
     "metadata": {},
     "output_type": "execute_result"
    }
   ],
   "source": [
    "SEC_TO_PERSIST = 5\n",
    "df_normal['anomalous_seconds'] = df_normal['total_height']\\\n",
    "                                .between(lower_threshold, upper_threshold, inclusive=\"both\")\\\n",
    "                                .replace({True: 0, False: 1})\\\n",
    "                                .rolling(SEC_TO_PERSIST)\\\n",
    "                                .sum()\n",
    "df_normal['is_anomalous'] = 0\n",
    "df_normal.loc[df_normal['anomalous_seconds'] >= SEC_TO_PERSIST, 'is_anomalous'] = 1\n",
    "df_normal.loc[df_normal['is_anomalous'] == 1].index"
   ]
  },
  {
   "cell_type": "code",
   "execution_count": 30,
   "metadata": {},
   "outputs": [],
   "source": [
    "# df_normal.to_csv(\"data/cleaned_combined_anomalous.csv\", index=True, index_label='time')"
   ]
  },
  {
   "cell_type": "markdown",
   "metadata": {},
   "source": [
    "## Correlations between features\n",
    "Correlations between features are important. They help ascertain the extent of inter-relationship between the various features. Given that there are numerous columns with only a single value, the correlations from these columns are expected to be low.\n",
    "\n",
    "This can be understood as follows: regardless of the changes from the other variables (e.g `tank-a_height`, `valve-b_open` etc), columns with a single value remains unchanged. Based on this train of thought, the columns with a single value will be removed from the correlation calculations. The steps to be undertaken in this section are as follows:\n",
    "1. Identify columns with single value using `df.nunique()`\n",
    "2. Remove these columns using `df.drop(axis=1)`\n",
    "3. Determine correlations using `df.corr()`\n",
    "4. Plot correlations on a `sns.heatmap()`"
   ]
  },
  {
   "cell_type": "code",
   "execution_count": 31,
   "metadata": {},
   "outputs": [
    {
     "data": {
      "text/plain": [
       "ops_mode_scada_output             2\n",
       "pump_start_output                 2\n",
       "pump_start_scada_input            1\n",
       "valve-a_start_scada_input         1\n",
       "valve-b_start_scada_input         1\n",
       "tank-a_upper_sensor               2\n",
       "tank-a_height                    81\n",
       "tank-a_lower_sensor               1\n",
       "tank-b_upper_sensor               2\n",
       "tank-b_height                    81\n",
       "tank-b_lower_sensor               1\n",
       "valve-a_hmi_input                 1\n",
       "valve-a_open                      2\n",
       "valve-b_hmi_input                 1\n",
       "valve-b_open                      2\n",
       "writable_ops_mode_scada_input     2\n",
       "total_height                     15\n",
       "anomalous_seconds                 1\n",
       "is_anomalous                      1\n",
       "dtype: int64"
      ]
     },
     "execution_count": 31,
     "metadata": {},
     "output_type": "execute_result"
    }
   ],
   "source": [
    "df_normal.nunique()"
   ]
  },
  {
   "cell_type": "code",
   "execution_count": 32,
   "metadata": {},
   "outputs": [
    {
     "data": {
      "text/plain": [
       "Index(['ops_mode_scada_output', 'pump_start_output', 'tank-a_upper_sensor',\n",
       "       'tank-a_height', 'tank-b_upper_sensor', 'tank-b_height', 'valve-a_open',\n",
       "       'valve-b_open', 'writable_ops_mode_scada_input', 'total_height'],\n",
       "      dtype='object')"
      ]
     },
     "execution_count": 32,
     "metadata": {},
     "output_type": "execute_result"
    }
   ],
   "source": [
    "df_normal.nunique()\n",
    "col_to_drop = []\n",
    "for col in df_normal.columns:\n",
    "    # print(df_normal[col].nunique())\n",
    "    if df_normal[col].nunique() == 1:\n",
    "        col_to_drop.append(col)\n",
    "df_normal.drop(col_to_drop, axis=1, inplace=True)\n",
    "df_normal.columns"
   ]
  },
  {
   "cell_type": "code",
   "execution_count": 33,
   "metadata": {},
   "outputs": [
    {
     "data": {
      "text/plain": [
       "<AxesSubplot:>"
      ]
     },
     "execution_count": 33,
     "metadata": {},
     "output_type": "execute_result"
    },
    {
     "data": {
      "image/png": "[encoded data removed]",
      "text/plain": [
       "<Figure size 864x864 with 2 Axes>"
      ]
     },
     "metadata": {
      "needs_background": "light"
     },
     "output_type": "display_data"
    }
   ],
   "source": [
    "import seaborn as sns\n",
    "%matplotlib inline\n",
    "corr = df_normal.corr()\n",
    "fig, ax = plt.subplots(figsize=(12, 12))\n",
    "sns.heatmap(corr, xticklabels=df_normal.columns, yticklabels=df_normal.columns, ax=ax, annot=True)"
   ]
  },
  {
   "cell_type": "markdown",
   "metadata": {},
   "source": [
    "Based on the heatmap above, the following pair of features have significant correlations $\\ge |0.3|$\n",
    "\n",
    "* `pump_start_output` to `valve-a_open` at -0.89, `valve-b_open` at 1.0 and `total_height` at 0.21\n",
    "* `tank-a_upper_sensor` to `tank-a_height` at 0.36, `tank-b_height` at -0.34\n",
    "* `tank-a_height` to `tank-b_upper_sensor` at -0.53, `tank-b_height` at -0.99\n",
    "* `tank-b_upper_sensor` to `tank-b_height` at 0.56\n",
    "* `valve-a_open` to `valve-b_open` at -0.89"
   ]
  },
  {
   "cell_type": "code",
   "execution_count": 46,
   "metadata": {},
   "outputs": [
    {
     "data": {
      "text/plain": [
       "<AxesSubplot:>"
      ]
     },
     "execution_count": 46,
     "metadata": {},
     "output_type": "execute_result"
    },
    {
     "data": {
      "image/png": "[encoded data removed]",
      "text/plain": [
       "<Figure size 576x576 with 2 Axes>"
      ]
     },
     "metadata": {
      "needs_background": "light"
     },
     "output_type": "display_data"
    }
   ],
   "source": [
    "df_normal_pop = df_normal.drop(['pump_start_output', 'tank-b_height', 'valve-b_open'], axis=1)\n",
    "fig, ax = plt.subplots(figsize=(8, 8))\n",
    "sns.heatmap(df_normal_pop.corr(), xticklabels=df_normal_pop.columns, yticklabels=df_normal_pop.columns, ax=ax, annot=True)"
   ]
  },
  {
   "cell_type": "markdown",
   "metadata": {},
   "source": [
    "Given the extremely high correlation values seen above, the following columns will be dropped without excessive loss of information:\n",
    "* `pump_start_output`\n",
    "* `tank-b_height`\n",
    "* `valve-b_open`\n",
    "\n",
    "Let's run a Variance Inflation Factor (VIF) test on the remaining features from `statsmodels` to see the amount of multilinearlity among them. We are trying to have a value less than 5."
   ]
  },
  {
   "cell_type": "code",
   "execution_count": 35,
   "metadata": {},
   "outputs": [
    {
     "name": "stderr",
     "output_type": "stream",
     "text": [
      "/home/ahwz84/miniconda3/envs/water/lib/python3.9/site-packages/statsmodels/stats/outliers_influence.py:195: RuntimeWarning: divide by zero encountered in double_scalars\n",
      "  vif = 1. / (1. - r_squared_i)\n"
     ]
    },
    {
     "data": {
      "text/html": [
       "<div>\n",
       "<style scoped>\n",
       "    .dataframe tbody tr th:only-of-type {\n",
       "        vertical-align: middle;\n",
       "    }\n",
       "\n",
       "    .dataframe tbody tr th {\n",
       "        vertical-align: top;\n",
       "    }\n",
       "\n",
       "    .dataframe thead th {\n",
       "        text-align: right;\n",
       "    }\n",
       "</style>\n",
       "<table border=\"1\" class=\"dataframe\">\n",
       "  <thead>\n",
       "    <tr style=\"text-align: right;\">\n",
       "      <th></th>\n",
       "      <th>features</th>\n",
       "      <th>vif</th>\n",
       "    </tr>\n",
       "  </thead>\n",
       "  <tbody>\n",
       "    <tr>\n",
       "      <th>0</th>\n",
       "      <td>ops_mode_scada_output</td>\n",
       "      <td>inf</td>\n",
       "    </tr>\n",
       "    <tr>\n",
       "      <th>1</th>\n",
       "      <td>tank-a_upper_sensor</td>\n",
       "      <td>1.240196</td>\n",
       "    </tr>\n",
       "    <tr>\n",
       "      <th>2</th>\n",
       "      <td>tank-a_height</td>\n",
       "      <td>43.914190</td>\n",
       "    </tr>\n",
       "    <tr>\n",
       "      <th>3</th>\n",
       "      <td>tank-b_upper_sensor</td>\n",
       "      <td>1.633933</td>\n",
       "    </tr>\n",
       "    <tr>\n",
       "      <th>4</th>\n",
       "      <td>valve-a_open</td>\n",
       "      <td>1.567834</td>\n",
       "    </tr>\n",
       "    <tr>\n",
       "      <th>5</th>\n",
       "      <td>writable_ops_mode_scada_input</td>\n",
       "      <td>inf</td>\n",
       "    </tr>\n",
       "    <tr>\n",
       "      <th>6</th>\n",
       "      <td>total_height</td>\n",
       "      <td>72.281859</td>\n",
       "    </tr>\n",
       "  </tbody>\n",
       "</table>\n",
       "</div>"
      ],
      "text/plain": [
       "                        features        vif\n",
       "0          ops_mode_scada_output        inf\n",
       "1            tank-a_upper_sensor   1.240196\n",
       "2                  tank-a_height  43.914190\n",
       "3            tank-b_upper_sensor   1.633933\n",
       "4                   valve-a_open   1.567834\n",
       "5  writable_ops_mode_scada_input        inf\n",
       "6                   total_height  72.281859"
      ]
     },
     "execution_count": 35,
     "metadata": {},
     "output_type": "execute_result"
    }
   ],
   "source": [
    "from statsmodels.stats.outliers_influence import variance_inflation_factor as vif\n",
    "\n",
    "vif_df = pd.DataFrame(columns=[\"features\", \"vif\"])\n",
    "vif_df[\"features\"] = df_normal_pop.columns\n",
    "vif_df[\"vif\"] = [vif(df_normal_pop.values, i) for i in range(len(df_normal_pop.columns))]\n",
    "vif_df"
   ]
  },
  {
   "cell_type": "markdown",
   "metadata": {},
   "source": [
    "## Decompose features with `PCA`\n",
    "It is not straightforward to drop features with just the values of their (linear) correlations as there are some other features that have minimal correlation values with the feature in question. To better ascertain the features to drop, `PCA` can first be applied to **scaled** features in `df_normal`. The top features accounting for the maximum variance will be selected while the rest will be dropped. \n",
    "\n",
    "Dropping of unnecessary features with `PCA` has the following benefits:\n",
    "1. Reduction in complexity of dataset\n",
    "2. Faster training time for model\n",
    "3. Reduce risk of overfitting without sacrificing model generalizability."
   ]
  },
  {
   "cell_type": "code",
   "execution_count": 36,
   "metadata": {},
   "outputs": [],
   "source": [
    "from sklearn.decomposition import PCA\n",
    "from sklearn.preprocessing import StandardScaler, MinMaxScaler"
   ]
  },
  {
   "cell_type": "code",
   "execution_count": 37,
   "metadata": {},
   "outputs": [
    {
     "data": {
      "text/plain": [
       "pump_start_output  tank-a_upper_sensor  tank-b_upper_sensor  valve-a_open  valve-b_open\n",
       "1.0                0.0                  0.0                  0.0           1.0             29176\n",
       "0.0                0.0                  0.0                  1.0           0.0             16589\n",
       "1.0                0.0                  1.0                  0.0           1.0              4725\n",
       "0.0                0.0                  0.0                  0.0           0.0              3031\n",
       "                   1.0                  0.0                  1.0           0.0              1271\n",
       "                   0.0                  1.0                  1.0           0.0              1250\n",
       "1.0                1.0                  0.0                  0.0           1.0              1239\n",
       "dtype: int64"
      ]
     },
     "execution_count": 37,
     "metadata": {},
     "output_type": "execute_result"
    }
   ],
   "source": [
    "# ascertain that the columns with 2 unique values indeed contain only 0's and 1's\n",
    "df_normal[['pump_start_output', 'tank-a_upper_sensor', 'tank-b_upper_sensor', 'valve-a_open', 'valve-b_open']].value_counts()"
   ]
  },
  {
   "cell_type": "code",
   "execution_count": 38,
   "metadata": {},
   "outputs": [],
   "source": [
    "# df_normal.nunique()\n",
    "min_max_scalar = MinMaxScaler()\n",
    "df_normal_scale = min_max_scalar.fit_transform(df_normal)\n",
    "df_normal_scale = pd.DataFrame(df_normal_scale, columns=df_normal.columns, index=df_normal.index)"
   ]
  },
  {
   "cell_type": "code",
   "execution_count": 39,
   "metadata": {},
   "outputs": [
    {
     "data": {
      "text/plain": [
       "(57281, 3)"
      ]
     },
     "execution_count": 39,
     "metadata": {},
     "output_type": "execute_result"
    }
   ],
   "source": [
    "pca = PCA(n_components=3)\n",
    "pca_normal_scale = pca.fit_transform(df_normal_scale)\n",
    "# type(pca_normal_scale)\n",
    "pca_normal_scale.shape"
   ]
  },
  {
   "cell_type": "code",
   "execution_count": 40,
   "metadata": {},
   "outputs": [
    {
     "data": {
      "text/plain": [
       "<mpl_toolkits.mplot3d.art3d.Path3DCollection at 0x7f74c418e070>"
      ]
     },
     "execution_count": 40,
     "metadata": {},
     "output_type": "execute_result"
    },
    {
     "data": {
      "image/png": "[encoded data removed]",
      "text/plain": [
       "<Figure size 720x720 with 1 Axes>"
      ]
     },
     "metadata": {
      "needs_background": "light"
     },
     "output_type": "display_data"
    }
   ],
   "source": [
    "# for comp, marker, color in zip(range(pca_normal_scale.shape[1]), ['^', 's', 'o'], ['blue', 'green', 'grey']):\n",
    "#     sns.scatterplot(pca_normal_scale[:,comp], \n",
    "#                     markers=marker,\n",
    "#                     color=color)\n",
    "from mpl_toolkits.mplot3d import Axes3D\n",
    "import ipympl\n",
    "fig = plt.figure(figsize=(10, 10))\n",
    "ax = fig.add_subplot(111, projection = '3d')\n",
    "\n",
    "ax.scatter3D(pca_normal_scale[:,0], pca_normal_scale[:,1], pca_normal_scale[:,2])"
   ]
  },
  {
   "cell_type": "code",
   "execution_count": 41,
   "metadata": {},
   "outputs": [],
   "source": [
    "from sklearn.cluster import KMeans\n",
    "kmeans = KMeans(n_clusters=3, random_state=42)"
   ]
  },
  {
   "cell_type": "markdown",
   "metadata": {},
   "source": [
    "## Attack dataframe\n",
    "Read in the attack data as `pd.df` and remove the redundant columns such as `raw-lvl` and `vol` as these do not confer additional information. Create the `total_height`, `anomalous_seconds` and `is_anomalous` columns to start detecting anomalies. \n",
    "\n",
    "Unfortunately in this instance, water has been added to the tank prior to the launching of the attacks. This invalidates the normal behaviour and changes the distribution of `total_height` that the model learns in the normal operations dataset.\n",
    "\n",
    "The solution implemented here is for the model to learn the *normal* behaviour from the period prior to the first attack. Take note that the rule-based model is susceptible to changes in conditions such as addition/removal of water."
   ]
  },
  {
   "cell_type": "code",
   "execution_count": 42,
   "metadata": {},
   "outputs": [],
   "source": [
    "def clean_df(df):\n",
    "    \"\"\"Takes in a time-indexed dataframe and renames the \n",
    "        header to be consistent with earlier columns.\n",
    "    Args:\n",
    "        df (pd.df): A pandas dataframe to be processed\n",
    "    \"\"\"\n",
    "    df.columns = ['ops_mode_scada_output',\n",
    "                    'pump_start_output', \n",
    "                    'quality',\n",
    "                    'pump_start_scada_input',\n",
    "                    'valve-a_start_scada_input',\n",
    "                    'valve-b_start_scada_input',\n",
    "                    'tank-a_upper_sensor',\n",
    "                    'tank-a_height',\n",
    "                    'tank-a_lower_sensor',\n",
    "                    'tank-a_raw_lvl',\n",
    "                    'tank-a_vol',\n",
    "                    'tank-b_upper_sensor',\n",
    "                    'tank-b_height',\n",
    "                    'tank-b_lower_sensor',\n",
    "                    'tank-b_raw_lvl',\n",
    "                    'tank-b_vol',\n",
    "                    'valve-a_hmi_input',\n",
    "                    'valve-a_open',\n",
    "                    'valve-b_hmi_input',\n",
    "                    'valve-b_open',\n",
    "                    'writable_ops_mode_scada_input']\n",
    "    df.replace([True, False], value=[1, 0], inplace=True)\n",
    "    df.index.rename('time', inplace=True)\n",
    "    df.index = pd.to_datetime(df.index, \n",
    "                                errors='raise', \n",
    "                                yearfirst=True,\n",
    "                                format='%Y-%m-%d %H:%M:%S')\n",
    "    df.drop(labels=['quality', 'tank-a_raw_lvl', 'tank-b_raw_lvl', 'tank-a_vol', 'tank-b_vol'], axis=1, inplace=True)\n",
    "    return df"
   ]
  },
  {
   "cell_type": "code",
   "execution_count": 43,
   "metadata": {},
   "outputs": [
    {
     "ename": "FileNotFoundError",
     "evalue": "[Errno 2] No such file or directory: 'data/logs_attack_20220606_1450-1531_plc.csv'",
     "output_type": "error",
     "traceback": [
      "\u001b[0;31m---------------------------------------------------------------------------\u001b[0m",
      "\u001b[0;31mFileNotFoundError\u001b[0m                         Traceback (most recent call last)",
      "\u001b[1;32m/home/ahwz84/ai_model/tank/tank_eda.ipynb Cell 58\u001b[0m in \u001b[0;36m<cell line: 1>\u001b[0;34m()\u001b[0m\n\u001b[0;32m----> <a href='vscode-notebook-cell://wsl%2Bubuntu-20.04/home/ahwz84/ai_model/tank/tank_eda.ipynb#ch0000057vscode-remote?line=0'>1</a>\u001b[0m df_atk \u001b[39m=\u001b[39m pd\u001b[39m.\u001b[39;49mread_csv(\u001b[39m\"\u001b[39;49m\u001b[39mdata/logs_attack_20220606_1450-1531_plc.csv\u001b[39;49m\u001b[39m\"\u001b[39;49m, index_col\u001b[39m=\u001b[39;49m\u001b[39m0\u001b[39;49m, header\u001b[39m=\u001b[39;49m\u001b[39m0\u001b[39;49m, parse_dates\u001b[39m=\u001b[39;49m\u001b[39mTrue\u001b[39;49;00m)\n",
      "File \u001b[0;32m~/miniconda3/envs/water/lib/python3.9/site-packages/pandas/util/_decorators.py:311\u001b[0m, in \u001b[0;36mdeprecate_nonkeyword_arguments.<locals>.decorate.<locals>.wrapper\u001b[0;34m(*args, **kwargs)\u001b[0m\n\u001b[1;32m    305\u001b[0m \u001b[39mif\u001b[39;00m \u001b[39mlen\u001b[39m(args) \u001b[39m>\u001b[39m num_allow_args:\n\u001b[1;32m    306\u001b[0m     warnings\u001b[39m.\u001b[39mwarn(\n\u001b[1;32m    307\u001b[0m         msg\u001b[39m.\u001b[39mformat(arguments\u001b[39m=\u001b[39marguments),\n\u001b[1;32m    308\u001b[0m         \u001b[39mFutureWarning\u001b[39;00m,\n\u001b[1;32m    309\u001b[0m         stacklevel\u001b[39m=\u001b[39mstacklevel,\n\u001b[1;32m    310\u001b[0m     )\n\u001b[0;32m--> 311\u001b[0m \u001b[39mreturn\u001b[39;00m func(\u001b[39m*\u001b[39;49margs, \u001b[39m*\u001b[39;49m\u001b[39m*\u001b[39;49mkwargs)\n",
      "File \u001b[0;32m~/miniconda3/envs/water/lib/python3.9/site-packages/pandas/io/parsers/readers.py:680\u001b[0m, in \u001b[0;36mread_csv\u001b[0;34m(filepath_or_buffer, sep, delimiter, header, names, index_col, usecols, squeeze, prefix, mangle_dupe_cols, dtype, engine, converters, true_values, false_values, skipinitialspace, skiprows, skipfooter, nrows, na_values, keep_default_na, na_filter, verbose, skip_blank_lines, parse_dates, infer_datetime_format, keep_date_col, date_parser, dayfirst, cache_dates, iterator, chunksize, compression, thousands, decimal, lineterminator, quotechar, quoting, doublequote, escapechar, comment, encoding, encoding_errors, dialect, error_bad_lines, warn_bad_lines, on_bad_lines, delim_whitespace, low_memory, memory_map, float_precision, storage_options)\u001b[0m\n\u001b[1;32m    665\u001b[0m kwds_defaults \u001b[39m=\u001b[39m _refine_defaults_read(\n\u001b[1;32m    666\u001b[0m     dialect,\n\u001b[1;32m    667\u001b[0m     delimiter,\n\u001b[0;32m   (...)\u001b[0m\n\u001b[1;32m    676\u001b[0m     defaults\u001b[39m=\u001b[39m{\u001b[39m\"\u001b[39m\u001b[39mdelimiter\u001b[39m\u001b[39m\"\u001b[39m: \u001b[39m\"\u001b[39m\u001b[39m,\u001b[39m\u001b[39m\"\u001b[39m},\n\u001b[1;32m    677\u001b[0m )\n\u001b[1;32m    678\u001b[0m kwds\u001b[39m.\u001b[39mupdate(kwds_defaults)\n\u001b[0;32m--> 680\u001b[0m \u001b[39mreturn\u001b[39;00m _read(filepath_or_buffer, kwds)\n",
      "File \u001b[0;32m~/miniconda3/envs/water/lib/python3.9/site-packages/pandas/io/parsers/readers.py:575\u001b[0m, in \u001b[0;36m_read\u001b[0;34m(filepath_or_buffer, kwds)\u001b[0m\n\u001b[1;32m    572\u001b[0m _validate_names(kwds\u001b[39m.\u001b[39mget(\u001b[39m\"\u001b[39m\u001b[39mnames\u001b[39m\u001b[39m\"\u001b[39m, \u001b[39mNone\u001b[39;00m))\n\u001b[1;32m    574\u001b[0m \u001b[39m# Create the parser.\u001b[39;00m\n\u001b[0;32m--> 575\u001b[0m parser \u001b[39m=\u001b[39m TextFileReader(filepath_or_buffer, \u001b[39m*\u001b[39;49m\u001b[39m*\u001b[39;49mkwds)\n\u001b[1;32m    577\u001b[0m \u001b[39mif\u001b[39;00m chunksize \u001b[39mor\u001b[39;00m iterator:\n\u001b[1;32m    578\u001b[0m     \u001b[39mreturn\u001b[39;00m parser\n",
      "File \u001b[0;32m~/miniconda3/envs/water/lib/python3.9/site-packages/pandas/io/parsers/readers.py:933\u001b[0m, in \u001b[0;36mTextFileReader.__init__\u001b[0;34m(self, f, engine, **kwds)\u001b[0m\n\u001b[1;32m    930\u001b[0m     \u001b[39mself\u001b[39m\u001b[39m.\u001b[39moptions[\u001b[39m\"\u001b[39m\u001b[39mhas_index_names\u001b[39m\u001b[39m\"\u001b[39m] \u001b[39m=\u001b[39m kwds[\u001b[39m\"\u001b[39m\u001b[39mhas_index_names\u001b[39m\u001b[39m\"\u001b[39m]\n\u001b[1;32m    932\u001b[0m \u001b[39mself\u001b[39m\u001b[39m.\u001b[39mhandles: IOHandles \u001b[39m|\u001b[39m \u001b[39mNone\u001b[39;00m \u001b[39m=\u001b[39m \u001b[39mNone\u001b[39;00m\n\u001b[0;32m--> 933\u001b[0m \u001b[39mself\u001b[39m\u001b[39m.\u001b[39m_engine \u001b[39m=\u001b[39m \u001b[39mself\u001b[39;49m\u001b[39m.\u001b[39;49m_make_engine(f, \u001b[39mself\u001b[39;49m\u001b[39m.\u001b[39;49mengine)\n",
      "File \u001b[0;32m~/miniconda3/envs/water/lib/python3.9/site-packages/pandas/io/parsers/readers.py:1217\u001b[0m, in \u001b[0;36mTextFileReader._make_engine\u001b[0;34m(self, f, engine)\u001b[0m\n\u001b[1;32m   1213\u001b[0m     mode \u001b[39m=\u001b[39m \u001b[39m\"\u001b[39m\u001b[39mrb\u001b[39m\u001b[39m\"\u001b[39m\n\u001b[1;32m   1214\u001b[0m \u001b[39m# error: No overload variant of \"get_handle\" matches argument types\u001b[39;00m\n\u001b[1;32m   1215\u001b[0m \u001b[39m# \"Union[str, PathLike[str], ReadCsvBuffer[bytes], ReadCsvBuffer[str]]\"\u001b[39;00m\n\u001b[1;32m   1216\u001b[0m \u001b[39m# , \"str\", \"bool\", \"Any\", \"Any\", \"Any\", \"Any\", \"Any\"\u001b[39;00m\n\u001b[0;32m-> 1217\u001b[0m \u001b[39mself\u001b[39m\u001b[39m.\u001b[39mhandles \u001b[39m=\u001b[39m get_handle(  \u001b[39m# type: ignore[call-overload]\u001b[39;49;00m\n\u001b[1;32m   1218\u001b[0m     f,\n\u001b[1;32m   1219\u001b[0m     mode,\n\u001b[1;32m   1220\u001b[0m     encoding\u001b[39m=\u001b[39;49m\u001b[39mself\u001b[39;49m\u001b[39m.\u001b[39;49moptions\u001b[39m.\u001b[39;49mget(\u001b[39m\"\u001b[39;49m\u001b[39mencoding\u001b[39;49m\u001b[39m\"\u001b[39;49m, \u001b[39mNone\u001b[39;49;00m),\n\u001b[1;32m   1221\u001b[0m     compression\u001b[39m=\u001b[39;49m\u001b[39mself\u001b[39;49m\u001b[39m.\u001b[39;49moptions\u001b[39m.\u001b[39;49mget(\u001b[39m\"\u001b[39;49m\u001b[39mcompression\u001b[39;49m\u001b[39m\"\u001b[39;49m, \u001b[39mNone\u001b[39;49;00m),\n\u001b[1;32m   1222\u001b[0m     memory_map\u001b[39m=\u001b[39;49m\u001b[39mself\u001b[39;49m\u001b[39m.\u001b[39;49moptions\u001b[39m.\u001b[39;49mget(\u001b[39m\"\u001b[39;49m\u001b[39mmemory_map\u001b[39;49m\u001b[39m\"\u001b[39;49m, \u001b[39mFalse\u001b[39;49;00m),\n\u001b[1;32m   1223\u001b[0m     is_text\u001b[39m=\u001b[39;49mis_text,\n\u001b[1;32m   1224\u001b[0m     errors\u001b[39m=\u001b[39;49m\u001b[39mself\u001b[39;49m\u001b[39m.\u001b[39;49moptions\u001b[39m.\u001b[39;49mget(\u001b[39m\"\u001b[39;49m\u001b[39mencoding_errors\u001b[39;49m\u001b[39m\"\u001b[39;49m, \u001b[39m\"\u001b[39;49m\u001b[39mstrict\u001b[39;49m\u001b[39m\"\u001b[39;49m),\n\u001b[1;32m   1225\u001b[0m     storage_options\u001b[39m=\u001b[39;49m\u001b[39mself\u001b[39;49m\u001b[39m.\u001b[39;49moptions\u001b[39m.\u001b[39;49mget(\u001b[39m\"\u001b[39;49m\u001b[39mstorage_options\u001b[39;49m\u001b[39m\"\u001b[39;49m, \u001b[39mNone\u001b[39;49;00m),\n\u001b[1;32m   1226\u001b[0m )\n\u001b[1;32m   1227\u001b[0m \u001b[39massert\u001b[39;00m \u001b[39mself\u001b[39m\u001b[39m.\u001b[39mhandles \u001b[39mis\u001b[39;00m \u001b[39mnot\u001b[39;00m \u001b[39mNone\u001b[39;00m\n\u001b[1;32m   1228\u001b[0m f \u001b[39m=\u001b[39m \u001b[39mself\u001b[39m\u001b[39m.\u001b[39mhandles\u001b[39m.\u001b[39mhandle\n",
      "File \u001b[0;32m~/miniconda3/envs/water/lib/python3.9/site-packages/pandas/io/common.py:789\u001b[0m, in \u001b[0;36mget_handle\u001b[0;34m(path_or_buf, mode, encoding, compression, memory_map, is_text, errors, storage_options)\u001b[0m\n\u001b[1;32m    784\u001b[0m \u001b[39melif\u001b[39;00m \u001b[39misinstance\u001b[39m(handle, \u001b[39mstr\u001b[39m):\n\u001b[1;32m    785\u001b[0m     \u001b[39m# Check whether the filename is to be opened in binary mode.\u001b[39;00m\n\u001b[1;32m    786\u001b[0m     \u001b[39m# Binary mode does not support 'encoding' and 'newline'.\u001b[39;00m\n\u001b[1;32m    787\u001b[0m     \u001b[39mif\u001b[39;00m ioargs\u001b[39m.\u001b[39mencoding \u001b[39mand\u001b[39;00m \u001b[39m\"\u001b[39m\u001b[39mb\u001b[39m\u001b[39m\"\u001b[39m \u001b[39mnot\u001b[39;00m \u001b[39min\u001b[39;00m ioargs\u001b[39m.\u001b[39mmode:\n\u001b[1;32m    788\u001b[0m         \u001b[39m# Encoding\u001b[39;00m\n\u001b[0;32m--> 789\u001b[0m         handle \u001b[39m=\u001b[39m \u001b[39mopen\u001b[39;49m(\n\u001b[1;32m    790\u001b[0m             handle,\n\u001b[1;32m    791\u001b[0m             ioargs\u001b[39m.\u001b[39;49mmode,\n\u001b[1;32m    792\u001b[0m             encoding\u001b[39m=\u001b[39;49mioargs\u001b[39m.\u001b[39;49mencoding,\n\u001b[1;32m    793\u001b[0m             errors\u001b[39m=\u001b[39;49merrors,\n\u001b[1;32m    794\u001b[0m             newline\u001b[39m=\u001b[39;49m\u001b[39m\"\u001b[39;49m\u001b[39m\"\u001b[39;49m,\n\u001b[1;32m    795\u001b[0m         )\n\u001b[1;32m    796\u001b[0m     \u001b[39melse\u001b[39;00m:\n\u001b[1;32m    797\u001b[0m         \u001b[39m# Binary mode\u001b[39;00m\n\u001b[1;32m    798\u001b[0m         handle \u001b[39m=\u001b[39m \u001b[39mopen\u001b[39m(handle, ioargs\u001b[39m.\u001b[39mmode)\n",
      "\u001b[0;31mFileNotFoundError\u001b[0m: [Errno 2] No such file or directory: 'data/logs_attack_20220606_1450-1531_plc.csv'"
     ]
    }
   ],
   "source": [
    "df_atk = pd.read_csv(\"data/logs_attack_20220606_1450-1531_plc.csv\", index_col=0, header=0, parse_dates=True)"
   ]
  },
  {
   "cell_type": "code",
   "execution_count": null,
   "metadata": {},
   "outputs": [],
   "source": [
    "df_atk = clean_df(df_atk)\n",
    "df_atk.info()"
   ]
  },
  {
   "cell_type": "code",
   "execution_count": null,
   "metadata": {},
   "outputs": [],
   "source": [
    "df_atk['total_height'] = df_atk['tank-a_height'] + df_atk['tank-b_height']\n",
    "print(max(df_atk['total_height']), min(df_atk['total_height']))"
   ]
  },
  {
   "cell_type": "code",
   "execution_count": null,
   "metadata": {},
   "outputs": [],
   "source": [
    "SEC_TO_PERSIST = 60\n",
    "df_atk['anomalous_seconds'] = df_atk['total_height']\\\n",
    "                                .between(lower_threshold, upper_threshold, inclusive=\"both\")\\\n",
    "                                .replace({True: 0, False: 1})\\\n",
    "                                .rolling(SEC_TO_PERSIST)\\\n",
    "                                .sum()\n",
    "df_atk['is_anomalous'] = 0\n",
    "df_atk.loc[df_atk['anomalous_seconds'] >= SEC_TO_PERSIST, 'is_anomalous'] = 1\n",
    "df_atk.loc[df_atk['is_anomalous'] == 1].index.time"
   ]
  },
  {
   "cell_type": "code",
   "execution_count": null,
   "metadata": {},
   "outputs": [],
   "source": [
    "sns.distplot(df_atk['total_height'])\n",
    "# plt.show()"
   ]
  },
  {
   "cell_type": "code",
   "execution_count": null,
   "metadata": {},
   "outputs": [],
   "source": [
    "plt.subplots(figsize=(15, 10))\n",
    "plt.plot(df_atk.index, df_atk['total_height'])"
   ]
  },
  {
   "cell_type": "markdown",
   "metadata": {},
   "source": [
    "Note that the normal `total_height` changed after the first attack. Additional water has been added which changes the *normal operating conditions* of the tank. The part **BEFORE** the addition of water will be removed from the attack dataset."
   ]
  },
  {
   "cell_type": "code",
   "execution_count": null,
   "metadata": {},
   "outputs": [],
   "source": [
    "# df_atk_cut = df_atk.loc[df_atk.index.time >= pd.Timestamp(14:57:00)]\n",
    "mask = (df_atk.index >= pd.to_datetime('2022-06-06 14:58:00'))\n",
    "df_atk_cut = df_atk.loc[mask]"
   ]
  },
  {
   "cell_type": "code",
   "execution_count": null,
   "metadata": {},
   "outputs": [],
   "source": [
    "IQR_SCALE = 1.5\n",
    "atk_iqr = df_atk_cut['total_height'].quantile(0.75) - df_atk_cut['total_height'].quantile(0.25)\n",
    "df_atk_upper = df_atk_cut['total_height'].quantile(0.75) + (IQR_SCALE * atk_iqr)\n",
    "df_atk_lower = df_atk_cut['total_height'].quantile(0.25) - (IQR_SCALE * atk_iqr)"
   ]
  },
  {
   "cell_type": "code",
   "execution_count": null,
   "metadata": {},
   "outputs": [],
   "source": [
    "SEC_TO_PERSIST = 5\n",
    "df_atk_cut['anomalous_seconds'] = df_atk_cut['total_height']\\\n",
    "                                .between(df_atk_lower, df_atk_upper, inclusive=\"both\")\\\n",
    "                                .replace({True: 0, False: 1})\\\n",
    "                                .rolling(SEC_TO_PERSIST)\\\n",
    "                                .sum()\n",
    "df_atk_cut['anomalous_seconds'].fillna(0, inplace=True)"
   ]
  },
  {
   "cell_type": "code",
   "execution_count": null,
   "metadata": {},
   "outputs": [],
   "source": [
    "df_atk_cut['anomalous_seconds'].unique()"
   ]
  },
  {
   "cell_type": "code",
   "execution_count": null,
   "metadata": {},
   "outputs": [],
   "source": [
    "df_atk_cut['is_anomalous'] = 0\n",
    "df_atk_cut.loc[df_atk_cut['anomalous_seconds'] >= SEC_TO_PERSIST, 'is_anomalous'] = 1\n",
    "anomalous_index = df_atk_cut.loc[df_atk_cut['is_anomalous'] == 1].index"
   ]
  },
  {
   "cell_type": "code",
   "execution_count": null,
   "metadata": {},
   "outputs": [],
   "source": [
    "# df_atk_cut.to_csv(\"data/detected_atk.csv\", header=0, index=True, index_label='time')\n",
    "df_atk_cut.to_csv(\"data/detected_atk.csv\")"
   ]
  },
  {
   "cell_type": "code",
   "execution_count": null,
   "metadata": {},
   "outputs": [],
   "source": [
    "atk_time = pd.DataFrame({'from': ['2022-06-06 15:06:47',\n",
    "                        '2022-06-06 15:11:48',\n",
    "                        '2022-06-06 15:19:33',\n",
    "                        '2022-06-06 15:30:40'],\n",
    "                'to': ['2022-06-06 15:10:23',\n",
    "                        '2022-06-06 15:13:15',\n",
    "                        '2022-06-06 15:21:32',\n",
    "                        '2022-06-06 15:30:59']})"
   ]
  },
  {
   "cell_type": "code",
   "execution_count": null,
   "metadata": {},
   "outputs": [],
   "source": []
  },
  {
   "cell_type": "code",
   "execution_count": null,
   "metadata": {},
   "outputs": [],
   "source": [
    "plt.subplots(figsize=(15,10))\n",
    "plt.plot(df_atk_cut.index, df_atk_cut['total_height'])\n",
    "for _, row in atk_time.iterrows():\n",
    "    plt.fill_between(row, 255, color='red')\n",
    "plt.ylim(210, 255)"
   ]
  },
  {
   "cell_type": "markdown",
   "metadata": {},
   "source": [
    "## Implementation of ML models for AD\n",
    "Now that we have a baseline model, try 2 unsupervised ML models for AD - `IsolationForest` and `OCSVM`, both implemented in the `pyod` package."
   ]
  },
  {
   "cell_type": "code",
   "execution_count": null,
   "metadata": {},
   "outputs": [],
   "source": [
    "from pyod.models.iforest import IForest\n",
    "from pyod.models.ocsvm import OCSVM\n",
    "from pyod.models.lof import LOF\n",
    "from pyod.models.hbos import HBOS   # assumes feature-independence\n",
    "from pyod.models.ecod import ECOD   # based on empirical CDF distributions"
   ]
  },
  {
   "cell_type": "code",
   "execution_count": null,
   "metadata": {},
   "outputs": [],
   "source": [
    "# df_atk_cut_unsupv = df_atk_cut.pop('is_anomalous')\n",
    "df_atk_cut.columns"
   ]
  },
  {
   "cell_type": "code",
   "execution_count": null,
   "metadata": {},
   "outputs": [],
   "source": [
    "ifor = IForest(contamination=0.2, n_jobs=-1, random_state=42, verbose=1)\n",
    "ifor.fit(df_atk_cut)"
   ]
  },
  {
   "cell_type": "code",
   "execution_count": null,
   "metadata": {},
   "outputs": [],
   "source": [
    "ifor.fit_predict_score"
   ]
  },
  {
   "cell_type": "code",
   "execution_count": null,
   "metadata": {},
   "outputs": [],
   "source": [
    "predictions = ifor.predict(df_atk_cut)"
   ]
  },
  {
   "cell_type": "code",
   "execution_count": null,
   "metadata": {},
   "outputs": [],
   "source": [
    "anomaly_index_pred = np.where(predictions == 1) # tuple\n",
    "# anomaly_index_pred."
   ]
  }
 ],
 "metadata": {
  "interpreter": {
   "hash": "ab7cc0e32bff76a1c350578f1240ba7558934b5e5f9511e26c06438aac771ea6"
  },
  "kernelspec": {
   "display_name": "Python 3.9.12 ('water')",
   "language": "python",
   "name": "python3"
  },
  "language_info": {
   "codemirror_mode": {
    "name": "ipython",
    "version": 3
   },
   "file_extension": ".py",
   "mimetype": "text/x-python",
   "name": "python",
   "nbconvert_exporter": "python",
   "pygments_lexer": "ipython3",
   "version": "3.9.12"
  },
  "orig_nbformat": 4
 },
 "nbformat": 4,
 "nbformat_minor": 2
}
